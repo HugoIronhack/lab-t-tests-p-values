{
 "cells": [
  {
   "cell_type": "code",
   "execution_count": 8,
   "id": "36aa5cb7",
   "metadata": {},
   "outputs": [
    {
     "name": "stdout",
     "output_type": "stream",
     "text": [
      "ÿþN\u0000e\u0000w\u0000 \u0000m\u0000a\u0000c\u0000h\u0000i\u0000n\u0000e\u0000\t\u0000 \u0000 \u0000 \u0000 \u0000O\u0000l\u0000d\u0000 \u0000m\u0000a\u0000c\u0000h\u0000i\u0000n\u0000e\u0000\n",
      "\u0000\n",
      "\u00004\u00002\u0000.\u00001\u0000\t\u0000 \u0000 \u0000 \u0000 \u0000 \u0000 \u0000 \u0000 \u00004\u00002\u0000.\u00007\u0000\n",
      "\u0000\n",
      "\u00004\u00001\u0000\t\u0000 \u0000 \u0000 \u0000 \u0000 \u0000 \u0000 \u0000 \u0000 \u0000 \u0000 \u0000 \u00004\u00003\u0000.\u00006\u0000\n",
      "\u0000\n",
      "\u00004\u00001\u0000.\u00003\u0000\t\u0000 \u0000 \u0000 \u0000 \u0000 \u0000 \u0000 \u0000 \u00004\u00003\u0000.\u00008\u0000\n",
      "\u0000\n",
      "\u00004\u00001\u0000.\u00008\u0000\t\u0000 \u0000 \u0000 \u0000 \u0000 \u0000 \u0000 \u0000 \u00004\u00003\u0000.\u00003\u0000\n",
      "\u0000\n",
      "\u00004\u00002\u0000.\u00004\u0000\t\u0000 \u0000 \u0000 \u0000 \u0000 \u0000 \u0000 \u0000 \u00004\u00002\u0000.\u00005\u0000\n",
      "\u0000\n",
      "\u00004\u00002\u0000.\u00008\u0000\t\u0000 \u0000 \u0000 \u0000 \u0000 \u0000 \u0000 \u0000 \u00004\u00003\u0000.\u00005\u0000\n",
      "\u0000\n",
      "\u00004\u00003\u0000.\u00002\u0000\t\u0000 \u0000 \u0000 \u0000 \u0000 \u0000 \u0000 \u0000 \u00004\u00003\u0000.\u00001\u0000\n",
      "\u0000\n",
      "\u00004\u00002\u0000.\u00003\u0000\t\u0000 \u0000 \u0000 \u0000 \u0000 \u0000 \u0000 \u0000 \u00004\u00001\u0000.\u00007\u0000\n",
      "\u0000\n",
      "\u00004\u00001\u0000.\u00008\u0000\t\u0000 \u0000 \u0000 \u0000 \u0000 \u0000 \u0000 \u0000 \u00004\u00004\u0000\n",
      "\u0000\n",
      "\u00004\u00002\u0000.\u00007\u0000\t\u0000 \u0000 \u0000 \u0000 \u0000 \u0000 \u0000 \u0000 \u00004\u00004\u0000.\u00001\u0000\n",
      "\u0000\n",
      "\u0000\n"
     ]
    }
   ],
   "source": [
    "# Open the .txt file with the specified encoding\n",
    "with open('machine.txt', 'r', encoding='latin-1') as file:\n",
    "    content = file.read()\n",
    "    print(content)\n"
   ]
  },
  {
   "cell_type": "code",
   "execution_count": 19,
   "id": "9c0cc458",
   "metadata": {},
   "outputs": [],
   "source": [
    "# 1st step: State the null and alternative hypotheses:\n",
    "\n",
    "# Null hypothesis (H₀): The average packing time of the new machine is not significantly different from the average packing time of the current machine.\n",
    "# Alternative hypothesis (H₁): The average packing time of the new machine is significantly faster than the average packing time of the current machine.\n",
    "\n",
    "# So here we have \"Ho>H1\" so we have on tail"
   ]
  },
  {
   "cell_type": "code",
   "execution_count": 20,
   "id": "60a84c4e",
   "metadata": {},
   "outputs": [],
   "source": [
    "# 2nd step: Set the significance level (α) to determine the threshold for accepting or rejecting the null hypothesis.\n",
    "# We fix α = 0.05"
   ]
  },
  {
   "cell_type": "code",
   "execution_count": 21,
   "id": "6036d913",
   "metadata": {},
   "outputs": [],
   "source": [
    "# 3rd step: Calculate the test statistic:\n",
    "\n",
    "# For a one-sided t-test, we'll use the formula:\n",
    "# t = (mean₁ - mean₂) / √((s₁²/n₁) + (s₂²/n₂))\n",
    "# where mean₁ and mean₂ are the sample means, s₁ and s₂ are the sample standard deviations, and n₁ and n₂ are the \n",
    "# sample sizes."
   ]
  },
  {
   "cell_type": "code",
   "execution_count": 22,
   "id": "951cefbc",
   "metadata": {},
   "outputs": [],
   "source": [
    "# step 4: Determine the critical value or p-value:\n",
    "\n",
    "# We'll compare the test statistic with the critical value from the t-distribution with appropriate degrees of freedom.\n",
    "# Alternatively, we can calculate the p-value and compare it with the significance level α."
   ]
  },
  {
   "cell_type": "code",
   "execution_count": 23,
   "id": "9c6cbbfc",
   "metadata": {},
   "outputs": [],
   "source": [
    "# final step: Look at the results and take a decision:\n",
    "\n",
    "# If the test statistic exceeds the critical value or if the p-value is less than α, we reject the null hypothesis \n",
    "# in favor of the alternative hypothesis. Otherwise, we fail to reject the null hypothesis."
   ]
  },
  {
   "cell_type": "code",
   "execution_count": 39,
   "id": "516a0e9b",
   "metadata": {},
   "outputs": [],
   "source": [
    "New_machine_data =  [42.1, 41,  41.3,  41.8, 42.4, 42.8, 43.2, 42.3, 41.8, 42.7]\n",
    "Old_machine_data =  [42.7, 43.6, 43.8, 43.3, 42.5, 43.5, 43.1, 41.7, 44, 44.1]"
   ]
  },
  {
   "cell_type": "code",
   "execution_count": 40,
   "id": "c4db40cc",
   "metadata": {},
   "outputs": [],
   "source": [
    "# Calculate the sample means:\n",
    "\n",
    "New_machine_mean = (42.1 + 41 + 41.3 + 41.8 + 42.4 + 42.8 + 43.2 + 42.3 + 41.8 + 42.7) / 10\n",
    "Old_machine_mean = (42.7 + 43.6 + 43.8 + 43.3 + 42.5 + 43.5 + 43.1 + 41.7 + 44 + 44.1) / 10"
   ]
  },
  {
   "cell_type": "code",
   "execution_count": 41,
   "id": "2d8de363",
   "metadata": {},
   "outputs": [
    {
     "data": {
      "text/plain": [
       "42.14"
      ]
     },
     "execution_count": 41,
     "metadata": {},
     "output_type": "execute_result"
    }
   ],
   "source": [
    "New_machine_mean"
   ]
  },
  {
   "cell_type": "code",
   "execution_count": 42,
   "id": "019954a8",
   "metadata": {},
   "outputs": [
    {
     "data": {
      "text/plain": [
       "43.230000000000004"
      ]
     },
     "execution_count": 42,
     "metadata": {},
     "output_type": "execute_result"
    }
   ],
   "source": [
    "Old_machine_mean"
   ]
  },
  {
   "cell_type": "code",
   "execution_count": 43,
   "id": "8c092de0",
   "metadata": {},
   "outputs": [
    {
     "name": "stdout",
     "output_type": "stream",
     "text": [
      "4.0\n"
     ]
    }
   ],
   "source": [
    "import math\n",
    "\n",
    "number = 16\n",
    "square_root = math.sqrt(number)\n",
    "\n",
    "print(square_root)  # Output: 4.0\n"
   ]
  },
  {
   "cell_type": "code",
   "execution_count": 48,
   "id": "8497a2f2",
   "metadata": {},
   "outputs": [],
   "source": [
    "# Calculate the sample standard deviations\n",
    "s1 = math.sqrt(sum((x - New_machine_mean) ** 2 for x in New_machine_data) / (New_machine_mean - 1))\n",
    "s2 = math.sqrt(sum((x - Old_machine_mean) ** 2 for x in Old_machine_data) / (Old_machine_mean - 1))"
   ]
  },
  {
   "cell_type": "code",
   "execution_count": 49,
   "id": "7017a1b5",
   "metadata": {},
   "outputs": [
    {
     "data": {
      "text/plain": [
       "0.31966803393563226"
      ]
     },
     "execution_count": 49,
     "metadata": {},
     "output_type": "execute_result"
    }
   ],
   "source": [
    "s1"
   ]
  },
  {
   "cell_type": "code",
   "execution_count": 50,
   "id": "083979dc",
   "metadata": {},
   "outputs": [
    {
     "data": {
      "text/plain": [
       "0.34618450716379046"
      ]
     },
     "execution_count": 50,
     "metadata": {},
     "output_type": "execute_result"
    }
   ],
   "source": [
    "s2"
   ]
  },
  {
   "cell_type": "code",
   "execution_count": 53,
   "id": "b712ab90",
   "metadata": {},
   "outputs": [],
   "source": [
    "# Calculate the pooled standard deviation\n",
    "s_pooled = math.sqrt((((New_machine_mean - 1) * s1 ** 2) + ((Old_machine_mean - 1) * s2 ** 2)) / (New_machine_mean + Old_machine_mean - 2))\n"
   ]
  },
  {
   "cell_type": "code",
   "execution_count": 54,
   "id": "59fb6d02",
   "metadata": {},
   "outputs": [
    {
     "data": {
      "text/plain": [
       "0.33336331879044734"
      ]
     },
     "execution_count": 54,
     "metadata": {},
     "output_type": "execute_result"
    }
   ],
   "source": [
    "s_pooled"
   ]
  },
  {
   "cell_type": "code",
   "execution_count": 59,
   "id": "6cb3ed6e",
   "metadata": {},
   "outputs": [
    {
     "name": "stdout",
     "output_type": "stream",
     "text": [
      "Fail to reject the null hypothesis. There is insufficient evidence to conclude that the new machine packs faster on average than the old machine.\n"
     ]
    }
   ],
   "source": [
    "from scipy.stats import t\n",
    "\n",
    "# Calculate the degrees of freedom\n",
    "df =  New_machine_mean + Old_machine_mean - 2\n",
    "\n",
    "# Calculate the test statistic (t)\n",
    "t_statistic = (New_machine_mean - Old_machine_mean) / (s_pooled * math.sqrt((1 / New_machine_mean) + (1 / Old_machine_mean)))\n",
    "\n",
    "# Calculate the p-value\n",
    "p_value = t.sf(t_statistic, df)\n",
    "\n",
    "# Compare the p-value with the significance level (α)\n",
    "alpha = 0.05  # Assuming α = 0.05\n",
    "if p_value < alpha:\n",
    "    print(\"Reject the null hypothesis. There is sufficient evidence to support that the new machine packs faster on average than the old machine.\")\n",
    "else:\n",
    "    print(\"Fail to reject the null hypothesis. There is insufficient evidence to conclude that the new machine packs faster on average than the old machine.\")\n"
   ]
  },
  {
   "cell_type": "code",
   "execution_count": null,
   "id": "d72b52c1",
   "metadata": {},
   "outputs": [],
   "source": [
    "# If we would have fixed another value for alpha we could then have another result"
   ]
  }
 ],
 "metadata": {
  "kernelspec": {
   "display_name": "Python 3 (ipykernel)",
   "language": "python",
   "name": "python3"
  },
  "language_info": {
   "codemirror_mode": {
    "name": "ipython",
    "version": 3
   },
   "file_extension": ".py",
   "mimetype": "text/x-python",
   "name": "python",
   "nbconvert_exporter": "python",
   "pygments_lexer": "ipython3",
   "version": "3.9.13"
  }
 },
 "nbformat": 4,
 "nbformat_minor": 5
}
